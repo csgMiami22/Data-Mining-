{
  "metadata": {
    "kernelspec": {
      "name": "python",
      "display_name": "Python (Pyodide)",
      "language": "python"
    },
    "language_info": {
      "codemirror_mode": {
        "name": "python",
        "version": 3
      },
      "file_extension": ".py",
      "mimetype": "text/x-python",
      "name": "python",
      "nbconvert_exporter": "python",
      "pygments_lexer": "ipython3",
      "version": "3.8"
    }
  },
  "nbformat_minor": 5,
  "nbformat": 4,
  "cells": [
    {
      "id": "9662031c-8c25-4e4b-9d63-acf29b0c8449",
      "cell_type": "markdown",
      "source": "# 1. Programming Assignment: Python Basics ",
      "metadata": {}
    },
    {
      "id": "2a3984d6-14e0-446f-9229-02e10050d983",
      "cell_type": "markdown",
      "source": "## List basics",
      "metadata": {}
    },
    {
      "id": "a72259ab-5b16-4dab-be0e-fde298033b6b",
      "cell_type": "markdown",
      "source": "Given the user inputs, complete a program that does the following tasks:\n\n- Define a list, myList, containing the user inputs myFlower1, myFlower2, and myFlower3 in the same order.\n- Define a list, yourList, containing the user inputs yourFlower1 and yourFlower2 in the same order.\n- Define a list, ourList, by concatenating myList and yourList.\n- Append the user input theirFlower to the end of ourList.\n- Replace myFlower2 in ourList with theirFlower.\n- Remove the third element of ourList.\n\nObserve the output of each print statement carefully to understand what was done by each task of the program.\n\nEx: If the input is:\n\n    rose\n    peony\n    lily\n    rose\n    daisy\n    aster\nthe output is:\n    \n    ['rose', 'peony', 'lily']\n    ['rose', 'daisy']\n    ['rose', 'peony', 'lily', 'rose', 'daisy']\n    ['rose', 'peony', 'lily', 'rose', 'daisy', 'aster']\n    ['rose', 'aster', 'lily', 'rose', 'daisy', 'aster']\n    ['rose', 'aster', 'rose', 'daisy', 'aster']",
      "metadata": {}
    },
    {
      "id": "6b3e3e84-cb5e-4ead-bfb4-e1d295f0cdcf",
      "cell_type": "code",
      "source": "myFlower1 = input()\nmyFlower2 = input()\nmyFlower3 = input()\n\nyourFlower1 = input()\nyourFlower2 = input()\n\ntheirFlower = input()\n\nmyList = [myFlower1, myFlower2, myFlower3]\nprint(myList)\n\nyourList = [yourFlower1, yourFlower2]\nprint(yourList)\n\nourList = myList + yourList\nprint(ourList)\n\nourList.append(theirFlower)\nprint(ourList)\n\nourList[1] = theirFlower\nprint(ourList)\n\ndel ourList[2]\nprint(ourList)",
      "metadata": {},
      "outputs": [],
      "execution_count": null
    },
    {
      "id": "1668da6e-e02b-4786-a998-bb57e820723b",
      "cell_type": "code",
      "source": "",
      "metadata": {},
      "outputs": [],
      "execution_count": null
    },
    {
      "id": "5b9e31d0-1171-4316-a9fc-8082007a7108",
      "cell_type": "code",
      "source": "",
      "metadata": {},
      "outputs": [],
      "execution_count": null
    },
    {
      "id": "5c9fe6ee-1fd0-4d5e-911b-d7090d16e3cb",
      "cell_type": "markdown",
      "source": "## Set basics ",
      "metadata": {}
    },
    {
      "id": "672fa2b5-dd57-4557-8135-89bc8fbc9ed5",
      "cell_type": "markdown",
      "source": "\nGiven the user inputs, complete a program that does the following tasks:\n\n- Define a set, fruits, containing the user inputs myFruit1, myFruit2, and myFruit3.\n- Add the user input theirFruit to fruits.\n- Find the intersection of fruits and yourFruit1 and yourFruit2\n- Remove myFruit1 from fruits.\nNote: For testing purposes, sets are printed using sorted() for comparison.\n\nEx: If the input is:\n\n    apple\n    peach\n    lemon\n    apple\n    pear\n    plum\n\nthe output is:\n\n    ['apple', 'lemon', 'peach']\n    ['apple', 'lemon', 'peach', 'plum']\n    ['apple']\n    ['lemon', 'peach', 'plum']",
      "metadata": {}
    },
    {
      "id": "b20f3db1-4112-4a3c-b889-8a1d5bf8f807",
      "cell_type": "code",
      "source": "myFruit1 = input()\nmyFruit2 = input()\nmyFruit3 = input()\n\nyourFruit1 = input()\nyourFruit2 = input()\n\ntheirFruit = input()\n\nfruits = {myFruit1, myFruit2, myFruit3}\nprint(sorted(fruits))\n\nfruits.add(theirFruit)\nprint(sorted(fruits))\n\nfruitsInter = frutis.intersection({yourFruit1, yourFruit2})\nprint(sorted(fruitsInter))\n\nfruits.remove(myFruit1)\nprint(sorted(fruits))",
      "metadata": {},
      "outputs": [],
      "execution_count": null
    },
    {
      "id": "bd19e640-3eb4-4bd6-a8c9-9af05f910e1f",
      "cell_type": "code",
      "source": "",
      "metadata": {},
      "outputs": [],
      "execution_count": null
    },
    {
      "id": "32eb04d7-c573-46f6-b0ae-11750a031f3f",
      "cell_type": "code",
      "source": "",
      "metadata": {},
      "outputs": [],
      "execution_count": null
    },
    {
      "id": "f97a7bc0-4a0a-4de3-8a75-27a1798db981",
      "cell_type": "code",
      "source": "",
      "metadata": {},
      "outputs": [],
      "execution_count": null
    },
    {
      "id": "142d8d53-dc9d-4a2e-817b-f0f1960b1c97",
      "cell_type": "code",
      "source": "",
      "metadata": {},
      "outputs": [],
      "execution_count": null
    },
    {
      "id": "9c7043f2-39cf-4e5d-9d1c-ac1e7e8786e5",
      "cell_type": "code",
      "source": "",
      "metadata": {},
      "outputs": [],
      "execution_count": null
    },
    {
      "id": "99867e6f-b832-41dc-82ed-c37a873de736",
      "cell_type": "code",
      "source": "",
      "metadata": {},
      "outputs": [],
      "execution_count": null
    },
    {
      "id": "ad3d814e-d6a9-4c29-99bd-5b0dd18ec0c2",
      "cell_type": "code",
      "source": "",
      "metadata": {},
      "outputs": [],
      "execution_count": null
    },
    {
      "id": "88072331-d4b0-47e6-a4ad-48d20e587d9b",
      "cell_type": "code",
      "source": "",
      "metadata": {},
      "outputs": [],
      "execution_count": null
    }
  ]
}